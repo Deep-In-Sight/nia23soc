{
 "cells": [
  {
   "cell_type": "code",
   "execution_count": 1,
   "id": "cb63335a",
   "metadata": {},
   "outputs": [],
   "source": [
    "import matplotlib.pyplot as plt "
   ]
  },
  {
   "cell_type": "code",
   "execution_count": null,
   "id": "1ec0a557",
   "metadata": {},
   "outputs": [],
   "source": []
  },
  {
   "cell_type": "code",
   "execution_count": 2,
   "id": "cd858c25",
   "metadata": {},
   "outputs": [],
   "source": [
    "def expand_polygon(vertices, offset):\n",
    "    expanded_vertices = []\n",
    "\n",
    "    # Compute the outward normals for each edge\n",
    "    normals = []\n",
    "    for i in range(len(vertices)):\n",
    "        p0 = vertices[i]\n",
    "        p1 = vertices[(i+1) % len(vertices)]\n",
    "        \n",
    "        edge_dir = [p1[0] - p0[0], p1[1] - p0[1]]\n",
    "        normal = [-edge_dir[1], edge_dir[0]]\n",
    "        len_normal = (normal[0]**2 + normal[1]**2)**0.5\n",
    "        normalized_normal = [normal[0]/len_normal, normal[1]/len_normal]\n",
    "        normals.append(normalized_normal)\n",
    "\n",
    "    # Expand each vertex\n",
    "    for i in range(len(vertices)):\n",
    "        prev_normal = normals[i-1]\n",
    "        current_normal = normals[i]\n",
    "\n",
    "        avg_normal = [(prev_normal[0] + current_normal[0])/2, (prev_normal[1] + current_normal[1])/2]\n",
    "        expanded_vertex = [vertices[i][0] + avg_normal[0]*offset, vertices[i][1] + avg_normal[1]*offset]\n",
    "        expanded_vertices.append(expanded_vertex)\n",
    "\n",
    "    # You would still need to handle the intersection of expanded edges, especially for concave corners\n",
    "    # This is a more complex operation which requires line-line intersection checks\n",
    "\n",
    "    return expanded_vertices"
   ]
  },
  {
   "cell_type": "code",
   "execution_count": 3,
   "id": "0039788f",
   "metadata": {},
   "outputs": [],
   "source": [
    "polygon = [(0,0), (1,1), (2,3), (2.5)]"
   ]
  },
  {
   "cell_type": "code",
   "execution_count": 5,
   "id": "cafdfff0",
   "metadata": {},
   "outputs": [
    {
     "ename": "TypeError",
     "evalue": "'float' object is not subscriptable",
     "output_type": "error",
     "traceback": [
      "\u001b[0;31m---------------------------------------------------------------------------\u001b[0m",
      "\u001b[0;31mTypeError\u001b[0m                                 Traceback (most recent call last)",
      "Cell \u001b[0;32mIn[5], line 1\u001b[0m\n\u001b[0;32m----> 1\u001b[0m expanded \u001b[38;5;241m=\u001b[39m expand_polygon(polygon, \u001b[38;5;241m1\u001b[39m)\n",
      "Cell \u001b[0;32mIn[2], line 10\u001b[0m, in \u001b[0;36mexpand_polygon\u001b[0;34m(vertices, offset)\u001b[0m\n\u001b[1;32m      7\u001b[0m p0 \u001b[38;5;241m=\u001b[39m vertices[i]\n\u001b[1;32m      8\u001b[0m p1 \u001b[38;5;241m=\u001b[39m vertices[(i\u001b[38;5;241m+\u001b[39m\u001b[38;5;241m1\u001b[39m) \u001b[38;5;241m%\u001b[39m \u001b[38;5;28mlen\u001b[39m(vertices)]\n\u001b[0;32m---> 10\u001b[0m edge_dir \u001b[38;5;241m=\u001b[39m [p1[\u001b[38;5;241m0\u001b[39m] \u001b[38;5;241m-\u001b[39m p0[\u001b[38;5;241m0\u001b[39m], p1[\u001b[38;5;241m1\u001b[39m] \u001b[38;5;241m-\u001b[39m p0[\u001b[38;5;241m1\u001b[39m]]\n\u001b[1;32m     11\u001b[0m normal \u001b[38;5;241m=\u001b[39m [\u001b[38;5;241m-\u001b[39medge_dir[\u001b[38;5;241m1\u001b[39m], edge_dir[\u001b[38;5;241m0\u001b[39m]]\n\u001b[1;32m     12\u001b[0m len_normal \u001b[38;5;241m=\u001b[39m (normal[\u001b[38;5;241m0\u001b[39m]\u001b[38;5;241m*\u001b[39m\u001b[38;5;241m*\u001b[39m\u001b[38;5;241m2\u001b[39m \u001b[38;5;241m+\u001b[39m normal[\u001b[38;5;241m1\u001b[39m]\u001b[38;5;241m*\u001b[39m\u001b[38;5;241m*\u001b[39m\u001b[38;5;241m2\u001b[39m)\u001b[38;5;241m*\u001b[39m\u001b[38;5;241m*\u001b[39m\u001b[38;5;241m0.5\u001b[39m\n",
      "\u001b[0;31mTypeError\u001b[0m: 'float' object is not subscriptable"
     ]
    }
   ],
   "source": [
    "expanded = expand_polygon(polygon, 1)"
   ]
  },
  {
   "cell_type": "code",
   "execution_count": null,
   "id": "e3a6fb72",
   "metadata": {},
   "outputs": [],
   "source": []
  }
 ],
 "metadata": {
  "kernelspec": {
   "display_name": "Python 3 (ipykernel)",
   "language": "python",
   "name": "python3"
  },
  "language_info": {
   "codemirror_mode": {
    "name": "ipython",
    "version": 3
   },
   "file_extension": ".py",
   "mimetype": "text/x-python",
   "name": "python",
   "nbconvert_exporter": "python",
   "pygments_lexer": "ipython3",
   "version": "3.11.4"
  }
 },
 "nbformat": 4,
 "nbformat_minor": 5
}
